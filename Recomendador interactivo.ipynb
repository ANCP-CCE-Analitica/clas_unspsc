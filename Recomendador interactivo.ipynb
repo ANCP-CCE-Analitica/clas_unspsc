{
 "cells": [
  {
   "attachments": {},
   "cell_type": "markdown",
   "id": "ca10da62-2caf-4ddf-90be-d8a68709e9cd",
   "metadata": {},
   "source": [
    "<div style=\"\n",
    "  padding: 30px;\n",
    "  text-align: center;\" class='row'>\n",
    "<div style=\"float:left;width: 15%;\" class='column'><a href=\"https://www.colombiacompra.gov.co\"><img alt=\"Logo Colombia Compra Eficiente\" id=\"logocce\" src=\"https://www.colombiacompra.gov.co/sites/cce_public/files/Images/logocce.png\" style=\"height: 45px;\"></a></div>\n",
    "    <div style=\"float:left;width: 70%;\" class='column'>\n",
    "        <h1>Recomendación código UNSPSC\n",
    "        </h1> \n",
    "    </div>\n",
    "<div style=\"float:left;width: 15%;\" class='column'><a href=\"https://www.dnp.gov.co/\" target=\"_blank\"><img class=\"float-right\" id=\"logodnp\" src=\"https://www.colombiacompra.gov.co/sites/cce_public/files/logo_dnp.jpg\" style=\"width: 200px;\"></a></div>\n",
    "</div>"
   ]
  },
  {
   "attachments": {},
   "cell_type": "markdown",
   "id": "282d2ff9-a226-419f-9d13-6f297ffe7a9a",
   "metadata": {},
   "source": [
    "## 1. IDENTIFICACIÓN DEL INSUMO\n",
    "\n",
    "|||\n",
    "|:--|:--|\n",
    "|**Fecha**|Junio2022|\n",
    "|**Ciudad**|Bogotá D.C.|\n",
    "|**Esquema de presentación del insumo**|Cuaderno Jupyter|\n",
    "|**Título del insumo**| **Modelo de identificación de bienes y servicios UNSPSC**|\n",
    "|**Descripción y alcance**|Script de identificación de bienes y productos.|\n",
    "|**Periodicidad del insumo**|único|\n",
    "|**Solicitante**|No aplica|\n",
    "|**Versión del insumo**|Final|"
   ]
  },
  {
   "attachments": {},
   "cell_type": "markdown",
   "id": "ea3044ba-5cbd-4e44-8a2a-79c1599484b8",
   "metadata": {},
   "source": [
    "## 2. DESTINO Y AUTORES DEL INFORME / INSUMO\n",
    "\n",
    "|||\n",
    "|:--|:--|\n",
    "|**Destinatario**|<table align='left'><tr><td>*Nombre:*</td> <td>Equipo analítica EMAE</td></tr> <tr><td>*Cargo:*</td> <td>NA</td></tr>  <tr><td>*Área:*</td> <td>Subdirección de estudios de Mercado y Abastecimiento Estratégico – EMAE</td></tr></table>|\n",
    "|**Autores**|<table><tr><td>*Nombre:*</td> <td>Carlos Isaac Zainea Maya</td></tr> <tr><td>*Cargo:*</td> <td>Contratista</td></tr>  <tr><td>*Área:*</td> <td>Subdirección de estudios de Mercado y Abastecimiento Estratégico – EMAE.</td></tr></table>|\n",
    "|**Aprobación**|<table><tr><td>*Nombre:*</td> <td>Catalina Pimienta</td></tr> <tr><td>*Cargo:*</td> <td>Subdirectora Estudios de Mercado y Abastecimiento Estratégico</td></tr>  <tr><td>*Área:*</td> <td>Subdirección de estudios de Mercado y Abastecimiento Estratégico – EMAE.</td></tr></table>|"
   ]
  },
  {
   "cell_type": "code",
   "execution_count": 1,
   "id": "df9cf007-83bc-49d7-9907-d6b74cd52fe9",
   "metadata": {},
   "outputs": [],
   "source": [
    "# Ejecuta esta línea si no tienes el paquete \"clasunspsc\" instalado en tú ambiente\n",
    "# ! pip install clasunspsc"
   ]
  },
  {
   "cell_type": "code",
   "execution_count": 2,
   "id": "a928d60e",
   "metadata": {},
   "outputs": [
    {
     "data": {
      "text/html": [
       "<table border=\"1\" class=\"dataframe\">\n",
       "  <thead>\n",
       "    <tr style=\"text-align: right;\">\n",
       "      <th></th>\n",
       "      <th>Código Producto</th>\n",
       "      <th>Nombre Producto</th>\n",
       "      <th>Nombre Clase</th>\n",
       "    </tr>\n",
       "  </thead>\n",
       "  <tbody>\n",
       "    <tr>\n",
       "      <th>22637</th>\n",
       "      <td>43232106</td>\n",
       "      <td>Software de presentación</td>\n",
       "      <td>Software de edición y creación de contenidos</td>\n",
       "    </tr>\n",
       "    <tr>\n",
       "      <th>22678</th>\n",
       "      <td>43232602</td>\n",
       "      <td>Software de pruebas de aviación</td>\n",
       "      <td>Software específico para la industria</td>\n",
       "    </tr>\n",
       "    <tr>\n",
       "      <th>22665</th>\n",
       "      <td>43232406</td>\n",
       "      <td>Software de pruebas de programas</td>\n",
       "      <td>Programas de desarrollo</td>\n",
       "    </tr>\n",
       "    <tr>\n",
       "      <th>22755</th>\n",
       "      <td>43233601</td>\n",
       "      <td>Software de controlador del motor</td>\n",
       "      <td>Software de equipo eléctrico</td>\n",
       "    </tr>\n",
       "    <tr>\n",
       "      <th>22756</th>\n",
       "      <td>43233602</td>\n",
       "      <td>Software de monitor de energía</td>\n",
       "      <td>Software de equipo eléctrico</td>\n",
       "    </tr>\n",
       "  </tbody>\n",
       "</table>"
      ],
      "text/plain": [
       "<IPython.core.display.HTML object>"
      ]
     },
     "metadata": {},
     "output_type": "display_data"
    }
   ],
   "source": [
    "from clasunspsc.clasunspsc import recomendador\n",
    "\n",
    "# Descripción de productos\n",
    "descripcion = \"software para la presentación de pruebas\"\n",
    "\n",
    "# Número de elementos a recomendar\n",
    "topk = 5\n",
    "\n",
    "# Obtener recomendaciones\n",
    "recomendador(descripcion, topk)"
   ]
  },
  {
   "cell_type": "code",
   "execution_count": 3,
   "id": "d2fc63b0",
   "metadata": {},
   "outputs": [
    {
     "data": {
      "text/plain": [
       "{'Código Producto': {22637: 43232106,\n",
       "  22678: 43232602,\n",
       "  22665: 43232406,\n",
       "  22755: 43233601,\n",
       "  22756: 43233602},\n",
       " 'Nombre Producto': {22637: 'Software de presentación',\n",
       "  22678: 'Software de pruebas de aviación',\n",
       "  22665: 'Software de pruebas de programas',\n",
       "  22755: 'Software de controlador del motor',\n",
       "  22756: 'Software de monitor de energía'},\n",
       " 'Nombre Clase': {22637: 'Software de edición y creación de contenidos',\n",
       "  22678: 'Software específico para la industria',\n",
       "  22665: 'Programas de desarrollo',\n",
       "  22755: 'Software de equipo eléctrico',\n",
       "  22756: 'Software de equipo eléctrico'},\n",
       " 'dis': array([0.26134264, 0.25978811, 0.2315472 , 0.21949338, 0.21905753])}"
      ]
     },
     "execution_count": 3,
     "metadata": {},
     "output_type": "execute_result"
    }
   ],
   "source": [
    "from clasunspsc.clasunspsc import recomendador_api\n",
    "\n",
    "# Descripción de productos\n",
    "descripcion = \"software para la presentación de pruebas\"\n",
    "\n",
    "# Número de elementos a recomendar\n",
    "topk = 5\n",
    "\n",
    "# Obtener recomendaciones en formato de diccionario\n",
    "recomendador_api(descripcion, topk)"
   ]
  },
  {
   "cell_type": "code",
   "execution_count": 4,
   "id": "d55fe3c0-c624-486b-91e1-928013eca47c",
   "metadata": {},
   "outputs": [
    {
     "data": {
      "application/vnd.jupyter.widget-view+json": {
       "model_id": "a30fd6079ad44813a80d02dcc718f881",
       "version_major": 2,
       "version_minor": 0
      },
      "text/plain": [
       "interactive(children=(Textarea(value='', description='String:', layout=Layout(height='100px', width='80%'), pl…"
      ]
     },
     "metadata": {},
     "output_type": "display_data"
    }
   ],
   "source": [
    "from clasunspsc.clasunspsc import recomendador_int\n",
    "recomendador_int()"
   ]
  },
  {
   "attachments": {},
   "cell_type": "markdown",
   "id": "471ed52e-a82f-46e4-b961-3a8bffba41c6",
   "metadata": {},
   "source": [
    "## Aprobación\n",
    "|||\n",
    "|--|--|\n",
    "|**Nombre**|Wilson Camilo Sanchez|\n",
    "|**Cargo**|Gestor T11|\n",
    "|**Área**|Subdirección EMAE|"
   ]
  },
  {
   "attachments": {},
   "cell_type": "markdown",
   "id": "34016728-0a17-4e2b-b6c5-f1db88c47f4a",
   "metadata": {},
   "source": [
    "![version](https://github.com/ANCP-CCE-Analitica/datos_abiertos/raw/main/images/version.png)"
   ]
  }
 ],
 "metadata": {
  "kernelspec": {
   "display_name": "Python 3 (ipykernel)",
   "language": "python",
   "name": "python3"
  },
  "language_info": {
   "codemirror_mode": {
    "name": "ipython",
    "version": 3
   },
   "file_extension": ".py",
   "mimetype": "text/x-python",
   "name": "python",
   "nbconvert_exporter": "python",
   "pygments_lexer": "ipython3",
   "version": "3.7.9"
  }
 },
 "nbformat": 4,
 "nbformat_minor": 5
}
