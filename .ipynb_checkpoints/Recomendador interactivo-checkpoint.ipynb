{
 "cells": [
  {
   "cell_type": "markdown",
   "id": "ca10da62-2caf-4ddf-90be-d8a68709e9cd",
   "metadata": {},
   "source": [
    "<div style=\"\n",
    "  padding: 30px;\n",
    "  text-align: center;\" class='row'>\n",
    "<div style=\"float:left;width: 15%;\" class='column'><a href=\"https://www.colombiacompra.gov.co\"><img alt=\"Logo Colombia Compra Eficiente\" id=\"logocce\" src=\"https://www.colombiacompra.gov.co/sites/cce_public/files/Images/logocce.png\" style=\"height: 45px;\"></a></div>\n",
    "    <div style=\"float:left;width: 70%;\" class='column'>\n",
    "        <h1>Recomendación código UNSPSC\n",
    "        </h1> \n",
    "    </div>\n",
    "<div style=\"float:left;width: 15%;\" class='column'><a href=\"https://www.dnp.gov.co/\" target=\"_blank\"><img class=\"float-right\" id=\"logodnp\" src=\"https://www.colombiacompra.gov.co/sites/cce_public/files/logo_dnp.jpg\" style=\"width: 200px;\"></a></div>\n",
    "</div>"
   ]
  },
  {
   "cell_type": "markdown",
   "id": "282d2ff9-a226-419f-9d13-6f297ffe7a9a",
   "metadata": {},
   "source": [
    "## 1. IDENTIFICACIÓN DEL INSUMO\n",
    "\n",
    "|||\n",
    "|:--|:--|\n",
    "|**Fecha**|Junio2022|\n",
    "|**Ciudad**|Bogotá D.C.|\n",
    "|**Esquema de presentación del insumo**|Cuaderno Jupyter|\n",
    "|**Título del insumo**| **Modelo de identificación de bienes y servicios UNSPSC**|\n",
    "|**Descripción y alcance**|Script de identificación de bienes y productos.|\n",
    "|**Periodicidad del insumo**|único|\n",
    "|**Solicitante**|No aplica|\n",
    "|**Versión del insumo**|Final|"
   ]
  },
  {
   "cell_type": "markdown",
   "id": "ea3044ba-5cbd-4e44-8a2a-79c1599484b8",
   "metadata": {},
   "source": [
    "## 2. DESTINO Y AUTORES DEL INFORME / INSUMO\n",
    "\n",
    "|||\n",
    "|:--|:--|\n",
    "|**Destinatario**|<table align='left'><tr><td>*Nombre:*</td> <td>Equipo analítica EMAE</td></tr> <tr><td>*Cargo:*</td> <td>NA</td></tr>  <tr><td>*Área:*</td> <td>Subdirección de estudios de Mercado y Abastecimiento Estratégico – EMAE</td></tr></table>|\n",
    "|**Autores**|<table><tr><td>*Nombre:*</td> <td>Carlos Isaac Zainea Maya</td></tr> <tr><td>*Cargo:*</td> <td>Contratista</td></tr>  <tr><td>*Área:*</td> <td>Subdirección de estudios de Mercado y Abastecimiento Estratégico – EMAE.</td></tr></table>|\n",
    "|**Aprobación**|<table><tr><td>*Nombre:*</td> <td>Catalina Pimienta</td></tr> <tr><td>*Cargo:*</td> <td>Subdirectora Estudios de Mercado y Abastecimiento Estratégico</td></tr>  <tr><td>*Área:*</td> <td>Subdirección de estudios de Mercado y Abastecimiento Estratégico – EMAE.</td></tr></table>|"
   ]
  },
  {
   "cell_type": "code",
   "execution_count": null,
   "id": "df9cf007-83bc-49d7-9907-d6b74cd52fe9",
   "metadata": {},
   "outputs": [],
   "source": [
    "!pip install clasunspsc"
   ]
  },
  {
   "cell_type": "code",
   "execution_count": null,
   "id": "d55fe3c0-c624-486b-91e1-928013eca47c",
   "metadata": {},
   "outputs": [],
   "source": [
    "from clasunspsc.clasunspsc import recomendador_int\n",
    "recomendador_int()"
   ]
  },
  {
   "cell_type": "markdown",
   "id": "471ed52e-a82f-46e4-b961-3a8bffba41c6",
   "metadata": {},
   "source": [
    "## Aprobación\n",
    "|||\n",
    "|--|--|\n",
    "|**Nombre**|Wilson Camilo Sanchez|\n",
    "|**Cargo**|Gestor T11|\n",
    "|**Área**|Subdirección EMAE|"
   ]
  },
  {
   "cell_type": "markdown",
   "id": "34016728-0a17-4e2b-b6c5-f1db88c47f4a",
   "metadata": {},
   "source": [
    "![version](https://github.com/ANCP-CCE-Analitica/datos_abiertos/raw/main/images/version.png)"
   ]
  }
 ],
 "metadata": {
  "kernelspec": {
   "display_name": "Python 3 (ipykernel)",
   "language": "python",
   "name": "python3"
  },
  "language_info": {
   "codemirror_mode": {
    "name": "ipython",
    "version": 3
   },
   "file_extension": ".py",
   "mimetype": "text/x-python",
   "name": "python",
   "nbconvert_exporter": "python",
   "pygments_lexer": "ipython3",
   "version": "3.9.12"
  }
 },
 "nbformat": 4,
 "nbformat_minor": 5
}
